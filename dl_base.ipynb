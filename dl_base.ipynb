{
  "nbformat": 4,
  "nbformat_minor": 0,
  "metadata": {
    "colab": {
      "name": "dl_base.ipynb",
      "provenance": [],
      "authorship_tag": "ABX9TyPDlzgdK7Ks3ZOsRt/xZQ08",
      "include_colab_link": true
    },
    "kernelspec": {
      "name": "python3",
      "display_name": "Python 3"
    },
    "accelerator": "GPU"
  },
  "cells": [
    {
      "cell_type": "markdown",
      "metadata": {
        "id": "view-in-github",
        "colab_type": "text"
      },
      "source": [
        "<a href=\"https://colab.research.google.com/github/robotbrainyz/dl/blob/master/dl_base.ipynb\" target=\"_parent\"><img src=\"https://colab.research.google.com/assets/colab-badge.svg\" alt=\"Open In Colab\"/></a>"
      ]
    },
    {
      "cell_type": "code",
      "metadata": {
        "id": "p5PMfEDoNZu3",
        "colab_type": "code",
        "colab": {
          "base_uri": "https://localhost:8080/",
          "height": 34
        },
        "outputId": "b95ff7f9-7ff0-4ece-925b-4688eeda74d9"
      },
      "source": [
        "from google.colab import drive\n",
        "drive.mount('/content/gdrive')"
      ],
      "execution_count": 1,
      "outputs": [
        {
          "output_type": "stream",
          "text": [
            "Drive already mounted at /content/gdrive; to attempt to forcibly remount, call drive.mount(\"/content/gdrive\", force_remount=True).\n"
          ],
          "name": "stdout"
        }
      ]
    },
    {
      "cell_type": "code",
      "metadata": {
        "id": "JSUTpPkwPO-k",
        "colab_type": "code",
        "colab": {
          "base_uri": "https://localhost:8080/",
          "height": 102
        },
        "outputId": "2910c04f-e09f-4dd4-a67c-3a639394a16b"
      },
      "source": [
        "%cd /content/gdrive/My\\ Drive/AI/\n",
        "! ls"
      ],
      "execution_count": 1,
      "outputs": [
        {
          "output_type": "stream",
          "text": [
            "/content/gdrive/My Drive/AI\n",
            "'Deep Learning Coursera'      Pandas_Cheat_Sheet.pdf\n",
            " dl\t\t\t     'Python ML Book Lab'\n",
            "'Generative Themes'\t     'Security Camera Project'\n",
            "'Machine Learning Coursera'  'Stanford NLP with DL Video Lectures'\n"
          ],
          "name": "stdout"
        }
      ]
    },
    {
      "cell_type": "code",
      "metadata": {
        "id": "4btdZl5eqAsC",
        "colab_type": "code",
        "colab": {
          "base_uri": "https://localhost:8080/",
          "height": 221
        },
        "outputId": "11330486-9954-47c1-8a31-178374942dac"
      },
      "source": [
        "%cd /content/gdrive/My\\ Drive/AI/dl/src\n",
        "! git pull"
      ],
      "execution_count": 1,
      "outputs": [
        {
          "output_type": "stream",
          "text": [
            "/content/gdrive/My Drive/AI/dl/src\n",
            "remote: Enumerating objects: 7, done.\u001b[K\n",
            "remote: Counting objects: 100% (7/7), done.\u001b[K\n",
            "remote: Compressing objects: 100% (1/1), done.\u001b[K\n",
            "remote: Total 4 (delta 3), reused 4 (delta 3), pack-reused 0\u001b[K\n",
            "Unpacking objects: 100% (4/4), done.\n",
            "From https://github.com/robotbrainyz/dl\n",
            "   9379dfb..4450da9  master     -> origin/master\n",
            "Updating 9379dfb..4450da9\n",
            "Fast-forward\n",
            " src/dlt_plot.py | 2 \u001b[32m+\u001b[m\u001b[31m-\u001b[m\n",
            " 1 file changed, 1 insertion(+), 1 deletion(-)\n"
          ],
          "name": "stdout"
        }
      ]
    },
    {
      "cell_type": "code",
      "metadata": {
        "id": "NW8d4QWPyjvy",
        "colab_type": "code",
        "colab": {
          "base_uri": "https://localhost:8080/",
          "height": 136
        },
        "outputId": "a7292652-e0e2-4b78-a063-fec441a26bc5"
      },
      "source": [
        "! ls "
      ],
      "execution_count": 7,
      "outputs": [
        {
          "output_type": "stream",
          "text": [
            "countLines.sh\t      dlt_device.py\t     dlt_optimizer.py\n",
            "dlt_activate.py       dlt_forward.py\t     dlt_optimizer_test.py\n",
            "dlt_activate_test.py  dlt_forward_test.py    dlt_plot.py\n",
            "dlt_back.py\t      dlt_loss.py\t     dlt_regularizer.py\n",
            "dlt_back_test.py      dlt_loss_test.py\t     dlt_regularizer_test.py\n",
            "dlt_data.py\t      dlt_model_mlp.py\t     __pycache__\n",
            "dlt_data_test.py      dlt_model_mlp_test.py\n"
          ],
          "name": "stdout"
        }
      ]
    },
    {
      "cell_type": "code",
      "metadata": {
        "id": "Wz5BEnWNWkch",
        "colab_type": "code",
        "colab": {
          "base_uri": "https://localhost:8080/",
          "height": 306
        },
        "outputId": "c37ddaf6-d860-43ab-e643-2ea86ceebd78"
      },
      "source": [
        "%cd /content/gdrive/My\\ Drive/AI/dl/src\n",
        "! python3 -m pytest"
      ],
      "execution_count": 3,
      "outputs": [
        {
          "output_type": "stream",
          "text": [
            "/content/gdrive/My Drive/AI/dl/src\n",
            "\u001b[1m============================= test session starts ==============================\u001b[0m\n",
            "platform linux -- Python 3.6.9, pytest-3.6.4, py-1.9.0, pluggy-0.7.1\n",
            "rootdir: /content/gdrive/My Drive/AI/dl/src, inifile:\n",
            "plugins: typeguard-2.7.1\n",
            "collected 30 items                                                             \u001b[0m\n",
            "\n",
            "dlt_activate_test.py .......\u001b[36m                                             [ 23%]\u001b[0m\n",
            "dlt_back_test.py ....\u001b[36m                                                    [ 36%]\u001b[0m\n",
            "dlt_data_test.py ...\u001b[36m                                                     [ 46%]\u001b[0m\n",
            "dlt_forward_test.py .\u001b[36m                                                    [ 50%]\u001b[0m\n",
            "dlt_loss_test.py .....\u001b[36m                                                   [ 66%]\u001b[0m\n",
            "dlt_model_mlp_test.py ........\u001b[36m                                           [ 93%]\u001b[0m\n",
            "dlt_optimizer_test.py .\u001b[36m                                                  [ 96%]\u001b[0m\n",
            "dlt_regularizer_test.py .\u001b[36m                                                [100%]\u001b[0m\n",
            "\n",
            "\u001b[32m\u001b[1m========================== 30 passed in 5.66 seconds ===========================\u001b[0m\n"
          ],
          "name": "stdout"
        }
      ]
    },
    {
      "cell_type": "code",
      "metadata": {
        "id": "v_5Mq9S0oUu9",
        "colab_type": "code",
        "colab": {
          "base_uri": "https://localhost:8080/",
          "height": 648
        },
        "outputId": "65b48f23-7049-4046-a0bf-2cd505e1c3d1"
      },
      "source": [
        "from dlt_model_mlp_test import test_mlp_train\n",
        "test_mlp_train()"
      ],
      "execution_count": 2,
      "outputs": [
        {
          "output_type": "stream",
          "text": [
            "/usr/local/lib/python3.6/dist-packages/statsmodels/tools/_testing.py:19: FutureWarning: pandas.util.testing is deprecated. Use the functions in the public API at pandas.testing instead.\n",
            "  import pandas.util.testing as tm\n"
          ],
          "name": "stderr"
        },
        {
          "output_type": "display_data",
          "data": {
            "image/png": "[encoded data removed]",
            "text/plain": [
              "<Figure size 432x288 with 1 Axes>"
            ]
          },
          "metadata": {
            "tags": [],
            "needs_background": "light"
          }
        },
        {
          "output_type": "display_data",
          "data": {
            "image/png": "[encoded data removed]",
            "text/plain": [
              "<Figure size 432x288 with 1 Axes>"
            ]
          },
          "metadata": {
            "tags": [],
            "needs_background": "light"
          }
        },
        {
          "output_type": "stream",
          "text": [
            "tensor([0.0429, 0.0428, 0.0427], device='cuda:0', dtype=torch.float64)\n",
            "tensor([5.9453e-05, 9.2287e-02, 4.3123e-04], device='cuda:0',\n",
            "       dtype=torch.float64)\n"
          ],
          "name": "stdout"
        }
      ]
    }
  ]
}