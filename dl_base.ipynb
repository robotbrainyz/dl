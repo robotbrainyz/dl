{
  "nbformat": 4,
  "nbformat_minor": 0,
  "metadata": {
    "colab": {
      "name": "dl_base.ipynb",
      "provenance": [],
      "authorship_tag": "ABX9TyO/FI/KSnupQytZQKAiUqBy",
      "include_colab_link": true
    },
    "kernelspec": {
      "name": "python3",
      "display_name": "Python 3"
    },
    "accelerator": "GPU"
  },
  "cells": [
    {
      "cell_type": "markdown",
      "metadata": {
        "id": "view-in-github",
        "colab_type": "text"
      },
      "source": [
        "<a href=\"https://colab.research.google.com/github/robotbrainyz/dl/blob/master/dl_base.ipynb\" target=\"_parent\"><img src=\"https://colab.research.google.com/assets/colab-badge.svg\" alt=\"Open In Colab\"/></a>"
      ]
    },
    {
      "cell_type": "code",
      "metadata": {
        "id": "p5PMfEDoNZu3",
        "colab_type": "code",
        "colab": {
          "base_uri": "https://localhost:8080/",
          "height": 34
        },
        "outputId": "b95ff7f9-7ff0-4ece-925b-4688eeda74d9"
      },
      "source": [
        "from google.colab import drive\n",
        "drive.mount('/content/gdrive')"
      ],
      "execution_count": 1,
      "outputs": [
        {
          "output_type": "stream",
          "text": [
            "Drive already mounted at /content/gdrive; to attempt to forcibly remount, call drive.mount(\"/content/gdrive\", force_remount=True).\n"
          ],
          "name": "stdout"
        }
      ]
    },
    {
      "cell_type": "code",
      "metadata": {
        "id": "JSUTpPkwPO-k",
        "colab_type": "code",
        "colab": {
          "base_uri": "https://localhost:8080/",
          "height": 102
        },
        "outputId": "b839be07-8b47-4d8a-c660-b2689e61ed59"
      },
      "source": [
        "%cd /content/gdrive/My\\ Drive/AI/\n",
        "! ls"
      ],
      "execution_count": 1,
      "outputs": [
        {
          "output_type": "stream",
          "text": [
            "/content/gdrive/My Drive/AI\n",
            "'Deep Learning Coursera'      Pandas_Cheat_Sheet.pdf\n",
            " dl\t\t\t     'Python ML Book Lab'\n",
            "'Generative Themes'\t     'Security Camera Project'\n",
            "'Machine Learning Coursera'  'Stanford NLP with DL Video Lectures'\n"
          ],
          "name": "stdout"
        }
      ]
    },
    {
      "cell_type": "code",
      "metadata": {
        "id": "4btdZl5eqAsC",
        "colab_type": "code",
        "colab": {
          "base_uri": "https://localhost:8080/",
          "height": 238
        },
        "outputId": "0376bcca-8469-4497-fe21-ed226df3c843"
      },
      "source": [
        "%cd /content/gdrive/My\\ Drive/AI/dl/src\n",
        "! git pull"
      ],
      "execution_count": 2,
      "outputs": [
        {
          "output_type": "stream",
          "text": [
            "/content/gdrive/My Drive/AI/dl/src\n",
            "remote: Enumerating objects: 9, done.\u001b[K\n",
            "remote: Counting objects: 100% (9/9), done.\u001b[K\n",
            "remote: Compressing objects: 100% (1/1), done.\u001b[K\n",
            "remote: Total 5 (delta 4), reused 5 (delta 4), pack-reused 0\u001b[K\n",
            "Unpacking objects: 100% (5/5), done.\n",
            "From https://github.com/robotbrainyz/dl\n",
            "   3cea697..34a4221  master     -> origin/master\n",
            "Updating 3cea697..34a4221\n",
            "Fast-forward\n",
            " src/dlt_model_mlp_test.py |  4 \u001b[32m++\u001b[m\u001b[31m--\u001b[m\n",
            " src/dlt_optimizer_test.py | 10 \u001b[32m++++++++\u001b[m\u001b[31m--\u001b[m\n",
            " 2 files changed, 10 insertions(+), 4 deletions(-)\n"
          ],
          "name": "stdout"
        }
      ]
    },
    {
      "cell_type": "code",
      "metadata": {
        "id": "NW8d4QWPyjvy",
        "colab_type": "code",
        "colab": {
          "base_uri": "https://localhost:8080/",
          "height": 119
        },
        "outputId": "d5298ab5-9f9a-452a-bf52-368560b973cc"
      },
      "source": [
        "! ls"
      ],
      "execution_count": 6,
      "outputs": [
        {
          "output_type": "stream",
          "text": [
            "countLines.sh\t      dlt_data_test.py\t   dlt_model_mlp_test.py\n",
            "dlt_activate.py       dlt_forward.py\t   dlt_optimizer.py\n",
            "dlt_activate_test.py  dlt_forward_test.py  dlt_optimizer_test.py\n",
            "dlt_back.py\t      dlt_loss.py\t   dlt_plot.py\n",
            "dlt_back_test.py      dlt_loss_test.py\t   dlt_regularizer.py\n",
            "dlt_data.py\t      dlt_model_mlp.py\t   dlt_regularizer_test.py\n"
          ],
          "name": "stdout"
        }
      ]
    },
    {
      "cell_type": "code",
      "metadata": {
        "id": "Wz5BEnWNWkch",
        "colab_type": "code",
        "colab": {
          "base_uri": "https://localhost:8080/",
          "height": 306
        },
        "outputId": "77497570-6a78-4638-8193-3cd8c5fc4885"
      },
      "source": [
        "%cd /content/gdrive/My\\ Drive/AI/dl/src\n",
        "! python3 -m pytest"
      ],
      "execution_count": 5,
      "outputs": [
        {
          "output_type": "stream",
          "text": [
            "/content/gdrive/My Drive/AI/dl/src\n",
            "\u001b[1m============================= test session starts ==============================\u001b[0m\n",
            "platform linux -- Python 3.6.9, pytest-3.6.4, py-1.9.0, pluggy-0.7.1\n",
            "rootdir: /content/gdrive/My Drive/AI/dl/src, inifile:\n",
            "plugins: typeguard-2.7.1\n",
            "collected 30 items                                                             \u001b[0m\n",
            "\n",
            "dlt_activate_test.py .......\u001b[36m                                             [ 23%]\u001b[0m\n",
            "dlt_back_test.py ....\u001b[36m                                                    [ 36%]\u001b[0m\n",
            "dlt_data_test.py ...\u001b[36m                                                     [ 46%]\u001b[0m\n",
            "dlt_forward_test.py .\u001b[36m                                                    [ 50%]\u001b[0m\n",
            "dlt_loss_test.py .....\u001b[36m                                                   [ 66%]\u001b[0m\n",
            "dlt_model_mlp_test.py ........\u001b[36m                                           [ 93%]\u001b[0m\n",
            "dlt_optimizer_test.py .\u001b[36m                                                  [ 96%]\u001b[0m\n",
            "dlt_regularizer_test.py .\u001b[36m                                                [100%]\u001b[0m\n",
            "\n",
            "\u001b[32m\u001b[1m========================== 30 passed in 5.52 seconds ===========================\u001b[0m\n"
          ],
          "name": "stdout"
        }
      ]
    },
    {
      "cell_type": "code",
      "metadata": {
        "id": "v_5Mq9S0oUu9",
        "colab_type": "code",
        "colab": {
          "base_uri": "https://localhost:8080/",
          "height": 418
        },
        "outputId": "308d8cb9-2c42-4bb4-86b7-2e7d6273b964"
      },
      "source": [
        "from dlt_model_mlp_test import test_mlp_train\n",
        "test_mlp_train()"
      ],
      "execution_count": 6,
      "outputs": [
        {
          "output_type": "stream",
          "text": [
            "/usr/local/lib/python3.6/dist-packages/statsmodels/tools/_testing.py:19: FutureWarning: pandas.util.testing is deprecated. Use the functions in the public API at pandas.testing instead.\n",
            "  import pandas.util.testing as tm\n"
          ],
          "name": "stderr"
        },
        {
          "output_type": "stream",
          "text": [
            "Running test_mlp_train on CUDA\n",
            "Running test_mlp_train on CUDA\n"
          ],
          "name": "stdout"
        },
        {
          "output_type": "display_data",
          "data": {
            "image/png": "[encoded data removed]",
            "text/plain": [
              "<Figure size 432x288 with 1 Axes>"
            ]
          },
          "metadata": {
            "tags": [],
            "needs_background": "light"
          }
        },
        {
          "output_type": "stream",
          "text": [
            "tensor([0.0429, 0.0428, 0.0427], device='cuda:0', dtype=torch.float64)\n",
            "tensor([5.9453e-05, 9.2287e-02, 4.3123e-04], device='cuda:0',\n",
            "       dtype=torch.float64)\n"
          ],
          "name": "stdout"
        }
      ]
    },
    {
      "cell_type": "code",
      "metadata": {
        "id": "zM1KUBGW0a96",
        "colab_type": "code",
        "colab": {}
      },
      "source": [
        "import torch\n",
        "if torch.cuda.is_available():                                                                                                                                                \n",
        "    dev = \"cuda:0\"                                                                                                                                                           \n",
        "else:                                                                                                                                                                        \n",
        "    dev = \"cpu\"                                                                                                                                                              \n",
        "device = torch.device(dev)\n",
        "X = torch.randn(1,3)\n",
        "X = X.cuda()"
      ],
      "execution_count": 4,
      "outputs": []
    }
  ]
}