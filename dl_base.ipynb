{
  "nbformat": 4,
  "nbformat_minor": 0,
  "metadata": {
    "colab": {
      "name": "dl_base.ipynb",
      "provenance": [],
      "authorship_tag": "ABX9TyMKhTSp6KSGmKFm5/rtpCpa",
      "include_colab_link": true
    },
    "kernelspec": {
      "name": "python3",
      "display_name": "Python 3"
    }
  },
  "cells": [
    {
      "cell_type": "markdown",
      "metadata": {
        "id": "view-in-github",
        "colab_type": "text"
      },
      "source": [
        "<a href=\"https://colab.research.google.com/github/robotbrainyz/dl/blob/master/dl_base.ipynb\" target=\"_parent\"><img src=\"https://colab.research.google.com/assets/colab-badge.svg\" alt=\"Open In Colab\"/></a>"
      ]
    },
    {
      "cell_type": "code",
      "metadata": {
        "id": "p5PMfEDoNZu3",
        "colab_type": "code",
        "colab": {
          "base_uri": "https://localhost:8080/",
          "height": 122
        },
        "outputId": "052ce753-42b2-41ad-f38e-b1ed853e7cb1"
      },
      "source": [
        "from google.colab import drive\n",
        "drive.mount('/content/gdrive')"
      ],
      "execution_count": 4,
      "outputs": [
        {
          "output_type": "stream",
          "text": [
            "Go to this URL in a browser: https://accounts.google.com/o/oauth2/auth?client_id=947318989803-6bn6qk8qdgf4n4g3pfee6491hc0brc4i.apps.googleusercontent.com&redirect_uri=urn%3aietf%3awg%3aoauth%3a2.0%3aoob&scope=email%20https%3a%2f%2fwww.googleapis.com%2fauth%2fdocs.test%20https%3a%2f%2fwww.googleapis.com%2fauth%2fdrive%20https%3a%2f%2fwww.googleapis.com%2fauth%2fdrive.photos.readonly%20https%3a%2f%2fwww.googleapis.com%2fauth%2fpeopleapi.readonly&response_type=code\n",
            "\n",
            "Enter your authorization code:\n",
            "··········\n",
            "Mounted at /content/gdrive\n"
          ],
          "name": "stdout"
        }
      ]
    },
    {
      "cell_type": "code",
      "metadata": {
        "id": "JSUTpPkwPO-k",
        "colab_type": "code",
        "colab": {
          "base_uri": "https://localhost:8080/",
          "height": 102
        },
        "outputId": "c6111b18-00dc-4702-8af5-3a2d609a3d61"
      },
      "source": [
        "%cd /content/gdrive/My\\ Drive/AI/\n",
        "! ls"
      ],
      "execution_count": 68,
      "outputs": [
        {
          "output_type": "stream",
          "text": [
            "/content/gdrive/My Drive/AI\n",
            "'Deep Learning Coursera'     'Python ML Book Lab'\n",
            "'Generative Themes'\t     'Security Camera Project'\n",
            "'Machine Learning Coursera'  'Stanford NLP with DL Video Lectures'\n",
            " Pandas_Cheat_Sheet.pdf\n"
          ],
          "name": "stdout"
        }
      ]
    },
    {
      "cell_type": "code",
      "metadata": {
        "id": "Fu5DWOdkP5ag",
        "colab_type": "code",
        "colab": {
          "base_uri": "https://localhost:8080/",
          "height": 136
        },
        "outputId": "6ca5fafe-034a-42a8-fcfa-66c8a1e44d79"
      },
      "source": [
        "! git clone git@github.com:robotbrainyz/dl.git"
      ],
      "execution_count": 69,
      "outputs": [
        {
          "output_type": "stream",
          "text": [
            "Cloning into 'dl'...\n",
            "remote: Enumerating objects: 766, done.\u001b[K\n",
            "remote: Counting objects: 100% (766/766), done.\u001b[K\n",
            "remote: Compressing objects: 100% (472/472), done.\u001b[K\n",
            "remote: Total 766 (delta 471), reused 582 (delta 287), pack-reused 0\u001b[K\n",
            "Receiving objects: 100% (766/766), 779.87 KiB | 5.10 MiB/s, done.\n",
            "Resolving deltas: 100% (471/471), done.\n"
          ],
          "name": "stdout"
        }
      ]
    },
    {
      "cell_type": "code",
      "metadata": {
        "id": "4btdZl5eqAsC",
        "colab_type": "code",
        "colab": {
          "base_uri": "https://localhost:8080/",
          "height": 34
        },
        "outputId": "be21ffd6-3e61-4d1c-b786-8bc06399334f"
      },
      "source": [
        "! git pull"
      ],
      "execution_count": 100,
      "outputs": [
        {
          "output_type": "stream",
          "text": [
            "Already up to date.\n"
          ],
          "name": "stdout"
        }
      ]
    },
    {
      "cell_type": "code",
      "metadata": {
        "id": "Wz5BEnWNWkch",
        "colab_type": "code",
        "colab": {
          "base_uri": "https://localhost:8080/",
          "height": 306
        },
        "outputId": "a1e3ac1f-63d4-48c2-ce3b-8db37868ce83"
      },
      "source": [
        "%cd /content/gdrive/My\\ Drive/AI/dl/src\n",
        "! python3 -m pytest"
      ],
      "execution_count": 95,
      "outputs": [
        {
          "output_type": "stream",
          "text": [
            "/content/gdrive/My Drive/AI/dl/src\n",
            "\u001b[1m============================= test session starts ==============================\u001b[0m\n",
            "platform linux -- Python 3.6.9, pytest-3.6.4, py-1.9.0, pluggy-0.7.1\n",
            "rootdir: /content/gdrive/My Drive/AI/dl/src, inifile:\n",
            "plugins: typeguard-2.7.1\n",
            "collected 30 items                                                             \u001b[0m\n",
            "\n",
            "dlt_activate_test.py .......\u001b[36m                                             [ 23%]\u001b[0m\n",
            "dlt_back_test.py ....\u001b[36m                                                    [ 36%]\u001b[0m\n",
            "dlt_data_test.py ...\u001b[36m                                                     [ 46%]\u001b[0m\n",
            "dlt_forward_test.py .\u001b[36m                                                    [ 50%]\u001b[0m\n",
            "dlt_loss_test.py .....\u001b[36m                                                   [ 66%]\u001b[0m\n",
            "dlt_model_mlp_test.py ........\u001b[36m                                           [ 93%]\u001b[0m\n",
            "dlt_optimizer_test.py .\u001b[36m                                                  [ 96%]\u001b[0m\n",
            "dlt_regularizer_test.py .\u001b[36m                                                [100%]\u001b[0m\n",
            "\n",
            "\u001b[32m\u001b[1m========================== 30 passed in 2.80 seconds ===========================\u001b[0m\n"
          ],
          "name": "stdout"
        }
      ]
    },
    {
      "cell_type": "code",
      "metadata": {
        "id": "v_5Mq9S0oUu9",
        "colab_type": "code",
        "colab": {
          "base_uri": "https://localhost:8080/",
          "height": 313
        },
        "outputId": "5ac1a82b-2dbc-48b4-c5a2-f6e95f7f8355"
      },
      "source": [
        "from dlt_model_mlp_test import test_mlp_train\n",
        "test_mlp_train()"
      ],
      "execution_count": 101,
      "outputs": [
        {
          "output_type": "display_data",
          "data": {
            "image/png": "[encoded data removed]",
            "text/plain": [
              "<Figure size 432x288 with 1 Axes>"
            ]
          },
          "metadata": {
            "tags": [],
            "needs_background": "light"
          }
        },
        {
          "output_type": "stream",
          "text": [
            "tensor([0.0429, 0.0428, 0.0427], dtype=torch.float64)\n",
            "tensor([5.9453e-05, 9.2287e-02, 4.3122e-04], dtype=torch.float64)\n"
          ],
          "name": "stdout"
        }
      ]
    }
  ]
}